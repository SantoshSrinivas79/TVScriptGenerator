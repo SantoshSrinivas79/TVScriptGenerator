{
 "cells": [
  {
   "cell_type": "code",
   "execution_count": 4,
   "id": "continent-float",
   "metadata": {},
   "outputs": [],
   "source": [
    "# importing GPT-3 api\n",
    "import openai\n",
    "import os"
   ]
  },
  {
   "cell_type": "code",
   "execution_count": 8,
   "id": "arbitrary-willow",
   "metadata": {},
   "outputs": [
    {
     "name": "stdout",
     "output_type": "stream",
     "text": [
      "{\n",
      "  \"choices\": [\n",
      "    {\n",
      "      \"finish_reason\": \"length\",\n",
      "      \"index\": 0,\n",
      "      \"logprobs\": null,\n",
      "      \"text\": \" Nothing. Jerry: Nothing happened. George: Nothing happened. Elaine: What did they say? Jerry: They were just trying to get us to go to a party with them. Elaine: What's the matter? Jerry: We're not going! Elaine: What? Jerry: We're not going! [Elaine starts crying] George: It's not that big of a deal!\\n\\nJerry: I'm sorry, I'd like to help you, but I really don't know what happened. I was in the bathroom for about an hour and when I came out, he was gone. George: Why didn't you call me?! You know how long it took me to get here? Jerry: Well, I didn't have your number... George (becoming angry): Did you look in my wallet? Did you look in my wallet?! [Jerry nods his head] George (frustrated): Oh, great! Now he's got my wallet!\\n\\nGeorge (after Kramer has stolen his wallet): My father gave me that wallet when I was thirteen years old! Kramer (stunned): Thirteen?! Are you sure?! [George nods] Kramer (shocked): Oh, man... [runs off]\\n\\nKramer (to the police officer who is questioning him about stealing George's wallet): Hey, hey, hey...now wait a minute...you're not pinning this on me...I had nothing to do with this...I'm as innocent as a baby in the womb...[the cop looks at him with disgust] You got something against babies in the womb?! [the cop continues looking at him with disgust] All right, all right, all right...[the cop walks away from him] All right now look...[the cop turns around and looks at him again] All right now listen to me; if it wasn't for me there would be no show about nothing; so why don't you just leave me alone and let me do my job?!\"\n",
      "    }\n",
      "  ],\n",
      "  \"created\": 1612749718,\n",
      "  \"id\": \"cmpl-2QqAANEpKxANCm8SxSpEq0ZXpa0v6\",\n",
      "  \"model\": \"davinci:2020-05-03\",\n",
      "  \"object\": \"text_completion\"\n",
      "}\n"
     ]
    }
   ],
   "source": [
    "openai.api_key = \"api_key\"\n",
    "\n",
    "response = openai.Completion.create(\n",
    "  # there are multiple engines. I chose Davinci because it is the most capable according to the documentation\n",
    "  engine=\"davinci\",\n",
    "  # gives the model a starting point for the generated script\n",
    "  prompt=\"[Jerry and George are on the phone with Elaine] Jerry: I'll be right there. Elaine: What happened? George:\",\n",
    "  # controls randomness\n",
    "  temperature=0.5,\n",
    "  # determines response length. one token equals about 4 english words\n",
    "  max_tokens=405,\n",
    "  # controls diversity via nucleus sampling, aka chooses from the smallest possible set of words whose cumulative probability exceeds the probability p\n",
    "  top_p=1,\n",
    "  # how much to penalize new tokens based on their existing frequency in the text so far\n",
    "  frequency_penalty=0.51\n",
    ")\n",
    "\n",
    "print(response)"
   ]
  },
  {
   "cell_type": "code",
   "execution_count": null,
   "id": "behind-edward",
   "metadata": {},
   "outputs": [],
   "source": []
  }
 ],
 "metadata": {
  "kernelspec": {
   "display_name": "datascience",
   "language": "python",
   "name": "datascience"
  },
  "language_info": {
   "codemirror_mode": {
    "name": "ipython",
    "version": 3
   },
   "file_extension": ".py",
   "mimetype": "text/x-python",
   "name": "python",
   "nbconvert_exporter": "python",
   "pygments_lexer": "ipython3",
   "version": "3.8.6"
  }
 },
 "nbformat": 4,
 "nbformat_minor": 5
}
